{
  "nbformat": 4,
  "nbformat_minor": 0,
  "metadata": {
    "colab": {
      "provenance": [],
      "authorship_tag": "ABX9TyMz8ZXCuAAroZP27aOWy53Z",
      "include_colab_link": true
    },
    "kernelspec": {
      "name": "python3",
      "display_name": "Python 3"
    },
    "language_info": {
      "name": "python"
    }
  },
  "cells": [
    {
      "cell_type": "markdown",
      "metadata": {
        "id": "view-in-github",
        "colab_type": "text"
      },
      "source": [
        "<a href=\"https://colab.research.google.com/github/Enriquea017/Valores_nulos/blob/main/Actividad3.1/Actividad3_1.ipynb\" target=\"_parent\"><img src=\"https://colab.research.google.com/assets/colab-badge.svg\" alt=\"Open In Colab\"/></a>"
      ]
    },
    {
      "cell_type": "code",
      "execution_count": null,
      "metadata": {
        "id": "xERCWkDU3dXV"
      },
      "outputs": [],
      "source": [
        "#Carga de librerías\n",
        "import pandas as pd\n",
        "import numpy as np\n",
        "import matplotlib.pyplot as plt\n",
        "import seaborn as sns"
      ]
    },
    {
      "cell_type": "code",
      "source": [
        "ventas = pd.read_csv('Ventas_totales.csv')"
      ],
      "metadata": {
        "id": "0SdFAg7j52lg"
      },
      "execution_count": null,
      "outputs": []
    },
    {
      "cell_type": "code",
      "source": [
        "ventas.columns"
      ],
      "metadata": {
        "colab": {
          "base_uri": "https://localhost:8080/"
        },
        "id": "8pTfn1Qn6AG5",
        "outputId": "c6b5aa94-e777-4fca-84af-587c6fabd099"
      },
      "execution_count": null,
      "outputs": [
        {
          "output_type": "execute_result",
          "data": {
            "text/plain": [
              "Index(['indice_tiempo', 'ventas_precios_corrientes',\n",
              "       'ventas_precios_constantes', 'ventas_totales_canal_venta',\n",
              "       'salon_ventas', 'canales_on_line', 'ventas_totales_medio_pago',\n",
              "       'efectivo', 'tarjetas_debito', 'tarjetas_credito', 'otros_medios',\n",
              "       'ventas_totales_grupo_articulos', 'subtotal_ventas_alimentos_bebidas',\n",
              "       'bebidas', 'almacen', 'panaderia', 'lacteos', 'carnes',\n",
              "       'verduleria_fruteria', 'alimentos_preparados_rotiseria',\n",
              "       'articulos_limpieza_perfumeria', 'indumentaria_calzado_textiles_hogar',\n",
              "       'electronicos_articulos_hogar', 'otros'],\n",
              "      dtype='object')"
            ]
          },
          "metadata": {},
          "execution_count": 3
        }
      ]
    },
    {
      "cell_type": "code",
      "source": [
        "ventas.head()"
      ],
      "metadata": {
        "colab": {
          "base_uri": "https://localhost:8080/",
          "height": 256
        },
        "id": "nax9CkwM6EY1",
        "outputId": "47459e4e-868c-49eb-b868-98064aa3c613"
      },
      "execution_count": null,
      "outputs": [
        {
          "output_type": "execute_result",
          "data": {
            "text/plain": [
              "  indice_tiempo  ventas_precios_corrientes  ventas_precios_constantes  \\\n",
              "0    01/01/2017                    27858.9                    27477.3   \n",
              "1    01/02/2017                    25994.2                    25223.4   \n",
              "2    01/03/2017                    27780.0                    26334.3   \n",
              "3    01/04/2017                    29134.3                    27045.9   \n",
              "4    01/05/2017                    27969.0                    25631.9   \n",
              "\n",
              "   ventas_totales_canal_venta  salon_ventas  canales_on_line  \\\n",
              "0                 27858872.08   27591730.13       267141.956   \n",
              "1                 25994200.17   25749179.40       245020.769   \n",
              "2                 27780006.52   27472228.72       307777.804   \n",
              "3                 29134272.22   28827479.49       306792.733   \n",
              "4                 27969004.68   27569311.41       399693.262   \n",
              "\n",
              "   ventas_totales_medio_pago      efectivo  tarjetas_debito  tarjetas_credito  \\\n",
              "0                27858872.08  1.023010e+07      6864575.384       9047205.493   \n",
              "1                25994200.17  9.719067e+06      6438494.011       8309150.301   \n",
              "2                27780006.52  1.024444e+07      6908522.962       8845010.494   \n",
              "3                29134272.22  1.031263e+07      7454251.800       9458166.682   \n",
              "4                27969004.68  1.014761e+07      6735747.319       9220929.862   \n",
              "\n",
              "   ...      almacen     panaderia      lacteos       carnes  \\\n",
              "0  ...  6705475.318  9.459063e+05  2880656.169  2606192.942   \n",
              "1  ...  6576624.803  9.256186e+05  2855639.900  2600083.591   \n",
              "2  ...  7437264.174  1.016148e+06  3188259.169  2824976.726   \n",
              "3  ...  8211244.093  1.132396e+06  3257140.159  3006158.760   \n",
              "4  ...  7651058.084  1.033082e+06  3232635.767  2799142.123   \n",
              "\n",
              "   verduleria_fruteria  alimentos_preparados_rotiseria  \\\n",
              "0         1.050314e+06                     340777.3882   \n",
              "1         1.026167e+06                     328288.6951   \n",
              "2         1.075526e+06                     353335.1548   \n",
              "3         1.037213e+06                     359694.4537   \n",
              "4         9.826512e+05                     336568.0085   \n",
              "\n",
              "   articulos_limpieza_perfumeria  indumentaria_calzado_textiles_hogar  \\\n",
              "0                    4397543.671                          772371.8476   \n",
              "1                    4053283.771                          672290.5165   \n",
              "2                    4354197.611                          667696.6653   \n",
              "3                    4355706.646                          838948.2458   \n",
              "4                    4206101.605                          915895.1498   \n",
              "\n",
              "   electronicos_articulos_hogar        otros  \n",
              "0                   1838507.096  2806660.309  \n",
              "1                   1257661.903  2354084.901  \n",
              "2                   1305674.917  2266189.277  \n",
              "3                   1535726.345  2146755.887  \n",
              "4                   1824462.036  2117971.483  \n",
              "\n",
              "[5 rows x 24 columns]"
            ],
            "text/html": [
              "\n",
              "  <div id=\"df-16e9a383-8298-4295-9537-4af375809361\" class=\"colab-df-container\">\n",
              "    <div>\n",
              "<style scoped>\n",
              "    .dataframe tbody tr th:only-of-type {\n",
              "        vertical-align: middle;\n",
              "    }\n",
              "\n",
              "    .dataframe tbody tr th {\n",
              "        vertical-align: top;\n",
              "    }\n",
              "\n",
              "    .dataframe thead th {\n",
              "        text-align: right;\n",
              "    }\n",
              "</style>\n",
              "<table border=\"1\" class=\"dataframe\">\n",
              "  <thead>\n",
              "    <tr style=\"text-align: right;\">\n",
              "      <th></th>\n",
              "      <th>indice_tiempo</th>\n",
              "      <th>ventas_precios_corrientes</th>\n",
              "      <th>ventas_precios_constantes</th>\n",
              "      <th>ventas_totales_canal_venta</th>\n",
              "      <th>salon_ventas</th>\n",
              "      <th>canales_on_line</th>\n",
              "      <th>ventas_totales_medio_pago</th>\n",
              "      <th>efectivo</th>\n",
              "      <th>tarjetas_debito</th>\n",
              "      <th>tarjetas_credito</th>\n",
              "      <th>...</th>\n",
              "      <th>almacen</th>\n",
              "      <th>panaderia</th>\n",
              "      <th>lacteos</th>\n",
              "      <th>carnes</th>\n",
              "      <th>verduleria_fruteria</th>\n",
              "      <th>alimentos_preparados_rotiseria</th>\n",
              "      <th>articulos_limpieza_perfumeria</th>\n",
              "      <th>indumentaria_calzado_textiles_hogar</th>\n",
              "      <th>electronicos_articulos_hogar</th>\n",
              "      <th>otros</th>\n",
              "    </tr>\n",
              "  </thead>\n",
              "  <tbody>\n",
              "    <tr>\n",
              "      <th>0</th>\n",
              "      <td>01/01/2017</td>\n",
              "      <td>27858.9</td>\n",
              "      <td>27477.3</td>\n",
              "      <td>27858872.08</td>\n",
              "      <td>27591730.13</td>\n",
              "      <td>267141.956</td>\n",
              "      <td>27858872.08</td>\n",
              "      <td>1.023010e+07</td>\n",
              "      <td>6864575.384</td>\n",
              "      <td>9047205.493</td>\n",
              "      <td>...</td>\n",
              "      <td>6705475.318</td>\n",
              "      <td>9.459063e+05</td>\n",
              "      <td>2880656.169</td>\n",
              "      <td>2606192.942</td>\n",
              "      <td>1.050314e+06</td>\n",
              "      <td>340777.3882</td>\n",
              "      <td>4397543.671</td>\n",
              "      <td>772371.8476</td>\n",
              "      <td>1838507.096</td>\n",
              "      <td>2806660.309</td>\n",
              "    </tr>\n",
              "    <tr>\n",
              "      <th>1</th>\n",
              "      <td>01/02/2017</td>\n",
              "      <td>25994.2</td>\n",
              "      <td>25223.4</td>\n",
              "      <td>25994200.17</td>\n",
              "      <td>25749179.40</td>\n",
              "      <td>245020.769</td>\n",
              "      <td>25994200.17</td>\n",
              "      <td>9.719067e+06</td>\n",
              "      <td>6438494.011</td>\n",
              "      <td>8309150.301</td>\n",
              "      <td>...</td>\n",
              "      <td>6576624.803</td>\n",
              "      <td>9.256186e+05</td>\n",
              "      <td>2855639.900</td>\n",
              "      <td>2600083.591</td>\n",
              "      <td>1.026167e+06</td>\n",
              "      <td>328288.6951</td>\n",
              "      <td>4053283.771</td>\n",
              "      <td>672290.5165</td>\n",
              "      <td>1257661.903</td>\n",
              "      <td>2354084.901</td>\n",
              "    </tr>\n",
              "    <tr>\n",
              "      <th>2</th>\n",
              "      <td>01/03/2017</td>\n",
              "      <td>27780.0</td>\n",
              "      <td>26334.3</td>\n",
              "      <td>27780006.52</td>\n",
              "      <td>27472228.72</td>\n",
              "      <td>307777.804</td>\n",
              "      <td>27780006.52</td>\n",
              "      <td>1.024444e+07</td>\n",
              "      <td>6908522.962</td>\n",
              "      <td>8845010.494</td>\n",
              "      <td>...</td>\n",
              "      <td>7437264.174</td>\n",
              "      <td>1.016148e+06</td>\n",
              "      <td>3188259.169</td>\n",
              "      <td>2824976.726</td>\n",
              "      <td>1.075526e+06</td>\n",
              "      <td>353335.1548</td>\n",
              "      <td>4354197.611</td>\n",
              "      <td>667696.6653</td>\n",
              "      <td>1305674.917</td>\n",
              "      <td>2266189.277</td>\n",
              "    </tr>\n",
              "    <tr>\n",
              "      <th>3</th>\n",
              "      <td>01/04/2017</td>\n",
              "      <td>29134.3</td>\n",
              "      <td>27045.9</td>\n",
              "      <td>29134272.22</td>\n",
              "      <td>28827479.49</td>\n",
              "      <td>306792.733</td>\n",
              "      <td>29134272.22</td>\n",
              "      <td>1.031263e+07</td>\n",
              "      <td>7454251.800</td>\n",
              "      <td>9458166.682</td>\n",
              "      <td>...</td>\n",
              "      <td>8211244.093</td>\n",
              "      <td>1.132396e+06</td>\n",
              "      <td>3257140.159</td>\n",
              "      <td>3006158.760</td>\n",
              "      <td>1.037213e+06</td>\n",
              "      <td>359694.4537</td>\n",
              "      <td>4355706.646</td>\n",
              "      <td>838948.2458</td>\n",
              "      <td>1535726.345</td>\n",
              "      <td>2146755.887</td>\n",
              "    </tr>\n",
              "    <tr>\n",
              "      <th>4</th>\n",
              "      <td>01/05/2017</td>\n",
              "      <td>27969.0</td>\n",
              "      <td>25631.9</td>\n",
              "      <td>27969004.68</td>\n",
              "      <td>27569311.41</td>\n",
              "      <td>399693.262</td>\n",
              "      <td>27969004.68</td>\n",
              "      <td>1.014761e+07</td>\n",
              "      <td>6735747.319</td>\n",
              "      <td>9220929.862</td>\n",
              "      <td>...</td>\n",
              "      <td>7651058.084</td>\n",
              "      <td>1.033082e+06</td>\n",
              "      <td>3232635.767</td>\n",
              "      <td>2799142.123</td>\n",
              "      <td>9.826512e+05</td>\n",
              "      <td>336568.0085</td>\n",
              "      <td>4206101.605</td>\n",
              "      <td>915895.1498</td>\n",
              "      <td>1824462.036</td>\n",
              "      <td>2117971.483</td>\n",
              "    </tr>\n",
              "  </tbody>\n",
              "</table>\n",
              "<p>5 rows × 24 columns</p>\n",
              "</div>\n",
              "    <div class=\"colab-df-buttons\">\n",
              "\n",
              "  <div class=\"colab-df-container\">\n",
              "    <button class=\"colab-df-convert\" onclick=\"convertToInteractive('df-16e9a383-8298-4295-9537-4af375809361')\"\n",
              "            title=\"Convert this dataframe to an interactive table.\"\n",
              "            style=\"display:none;\">\n",
              "\n",
              "  <svg xmlns=\"http://www.w3.org/2000/svg\" height=\"24px\" viewBox=\"0 -960 960 960\">\n",
              "    <path d=\"M120-120v-720h720v720H120Zm60-500h600v-160H180v160Zm220 220h160v-160H400v160Zm0 220h160v-160H400v160ZM180-400h160v-160H180v160Zm440 0h160v-160H620v160ZM180-180h160v-160H180v160Zm440 0h160v-160H620v160Z\"/>\n",
              "  </svg>\n",
              "    </button>\n",
              "\n",
              "  <style>\n",
              "    .colab-df-container {\n",
              "      display:flex;\n",
              "      gap: 12px;\n",
              "    }\n",
              "\n",
              "    .colab-df-convert {\n",
              "      background-color: #E8F0FE;\n",
              "      border: none;\n",
              "      border-radius: 50%;\n",
              "      cursor: pointer;\n",
              "      display: none;\n",
              "      fill: #1967D2;\n",
              "      height: 32px;\n",
              "      padding: 0 0 0 0;\n",
              "      width: 32px;\n",
              "    }\n",
              "\n",
              "    .colab-df-convert:hover {\n",
              "      background-color: #E2EBFA;\n",
              "      box-shadow: 0px 1px 2px rgba(60, 64, 67, 0.3), 0px 1px 3px 1px rgba(60, 64, 67, 0.15);\n",
              "      fill: #174EA6;\n",
              "    }\n",
              "\n",
              "    .colab-df-buttons div {\n",
              "      margin-bottom: 4px;\n",
              "    }\n",
              "\n",
              "    [theme=dark] .colab-df-convert {\n",
              "      background-color: #3B4455;\n",
              "      fill: #D2E3FC;\n",
              "    }\n",
              "\n",
              "    [theme=dark] .colab-df-convert:hover {\n",
              "      background-color: #434B5C;\n",
              "      box-shadow: 0px 1px 3px 1px rgba(0, 0, 0, 0.15);\n",
              "      filter: drop-shadow(0px 1px 2px rgba(0, 0, 0, 0.3));\n",
              "      fill: #FFFFFF;\n",
              "    }\n",
              "  </style>\n",
              "\n",
              "    <script>\n",
              "      const buttonEl =\n",
              "        document.querySelector('#df-16e9a383-8298-4295-9537-4af375809361 button.colab-df-convert');\n",
              "      buttonEl.style.display =\n",
              "        google.colab.kernel.accessAllowed ? 'block' : 'none';\n",
              "\n",
              "      async function convertToInteractive(key) {\n",
              "        const element = document.querySelector('#df-16e9a383-8298-4295-9537-4af375809361');\n",
              "        const dataTable =\n",
              "          await google.colab.kernel.invokeFunction('convertToInteractive',\n",
              "                                                    [key], {});\n",
              "        if (!dataTable) return;\n",
              "\n",
              "        const docLinkHtml = 'Like what you see? Visit the ' +\n",
              "          '<a target=\"_blank\" href=https://colab.research.google.com/notebooks/data_table.ipynb>data table notebook</a>'\n",
              "          + ' to learn more about interactive tables.';\n",
              "        element.innerHTML = '';\n",
              "        dataTable['output_type'] = 'display_data';\n",
              "        await google.colab.output.renderOutput(dataTable, element);\n",
              "        const docLink = document.createElement('div');\n",
              "        docLink.innerHTML = docLinkHtml;\n",
              "        element.appendChild(docLink);\n",
              "      }\n",
              "    </script>\n",
              "  </div>\n",
              "\n",
              "\n",
              "    <div id=\"df-5c788019-d871-4b7e-af6f-0c2a4d7580dc\">\n",
              "      <button class=\"colab-df-quickchart\" onclick=\"quickchart('df-5c788019-d871-4b7e-af6f-0c2a4d7580dc')\"\n",
              "                title=\"Suggest charts\"\n",
              "                style=\"display:none;\">\n",
              "\n",
              "<svg xmlns=\"http://www.w3.org/2000/svg\" height=\"24px\"viewBox=\"0 0 24 24\"\n",
              "     width=\"24px\">\n",
              "    <g>\n",
              "        <path d=\"M19 3H5c-1.1 0-2 .9-2 2v14c0 1.1.9 2 2 2h14c1.1 0 2-.9 2-2V5c0-1.1-.9-2-2-2zM9 17H7v-7h2v7zm4 0h-2V7h2v10zm4 0h-2v-4h2v4z\"/>\n",
              "    </g>\n",
              "</svg>\n",
              "      </button>\n",
              "\n",
              "<style>\n",
              "  .colab-df-quickchart {\n",
              "      --bg-color: #E8F0FE;\n",
              "      --fill-color: #1967D2;\n",
              "      --hover-bg-color: #E2EBFA;\n",
              "      --hover-fill-color: #174EA6;\n",
              "      --disabled-fill-color: #AAA;\n",
              "      --disabled-bg-color: #DDD;\n",
              "  }\n",
              "\n",
              "  [theme=dark] .colab-df-quickchart {\n",
              "      --bg-color: #3B4455;\n",
              "      --fill-color: #D2E3FC;\n",
              "      --hover-bg-color: #434B5C;\n",
              "      --hover-fill-color: #FFFFFF;\n",
              "      --disabled-bg-color: #3B4455;\n",
              "      --disabled-fill-color: #666;\n",
              "  }\n",
              "\n",
              "  .colab-df-quickchart {\n",
              "    background-color: var(--bg-color);\n",
              "    border: none;\n",
              "    border-radius: 50%;\n",
              "    cursor: pointer;\n",
              "    display: none;\n",
              "    fill: var(--fill-color);\n",
              "    height: 32px;\n",
              "    padding: 0;\n",
              "    width: 32px;\n",
              "  }\n",
              "\n",
              "  .colab-df-quickchart:hover {\n",
              "    background-color: var(--hover-bg-color);\n",
              "    box-shadow: 0 1px 2px rgba(60, 64, 67, 0.3), 0 1px 3px 1px rgba(60, 64, 67, 0.15);\n",
              "    fill: var(--button-hover-fill-color);\n",
              "  }\n",
              "\n",
              "  .colab-df-quickchart-complete:disabled,\n",
              "  .colab-df-quickchart-complete:disabled:hover {\n",
              "    background-color: var(--disabled-bg-color);\n",
              "    fill: var(--disabled-fill-color);\n",
              "    box-shadow: none;\n",
              "  }\n",
              "\n",
              "  .colab-df-spinner {\n",
              "    border: 2px solid var(--fill-color);\n",
              "    border-color: transparent;\n",
              "    border-bottom-color: var(--fill-color);\n",
              "    animation:\n",
              "      spin 1s steps(1) infinite;\n",
              "  }\n",
              "\n",
              "  @keyframes spin {\n",
              "    0% {\n",
              "      border-color: transparent;\n",
              "      border-bottom-color: var(--fill-color);\n",
              "      border-left-color: var(--fill-color);\n",
              "    }\n",
              "    20% {\n",
              "      border-color: transparent;\n",
              "      border-left-color: var(--fill-color);\n",
              "      border-top-color: var(--fill-color);\n",
              "    }\n",
              "    30% {\n",
              "      border-color: transparent;\n",
              "      border-left-color: var(--fill-color);\n",
              "      border-top-color: var(--fill-color);\n",
              "      border-right-color: var(--fill-color);\n",
              "    }\n",
              "    40% {\n",
              "      border-color: transparent;\n",
              "      border-right-color: var(--fill-color);\n",
              "      border-top-color: var(--fill-color);\n",
              "    }\n",
              "    60% {\n",
              "      border-color: transparent;\n",
              "      border-right-color: var(--fill-color);\n",
              "    }\n",
              "    80% {\n",
              "      border-color: transparent;\n",
              "      border-right-color: var(--fill-color);\n",
              "      border-bottom-color: var(--fill-color);\n",
              "    }\n",
              "    90% {\n",
              "      border-color: transparent;\n",
              "      border-bottom-color: var(--fill-color);\n",
              "    }\n",
              "  }\n",
              "</style>\n",
              "\n",
              "      <script>\n",
              "        async function quickchart(key) {\n",
              "          const quickchartButtonEl =\n",
              "            document.querySelector('#' + key + ' button');\n",
              "          quickchartButtonEl.disabled = true;  // To prevent multiple clicks.\n",
              "          quickchartButtonEl.classList.add('colab-df-spinner');\n",
              "          try {\n",
              "            const charts = await google.colab.kernel.invokeFunction(\n",
              "                'suggestCharts', [key], {});\n",
              "          } catch (error) {\n",
              "            console.error('Error during call to suggestCharts:', error);\n",
              "          }\n",
              "          quickchartButtonEl.classList.remove('colab-df-spinner');\n",
              "          quickchartButtonEl.classList.add('colab-df-quickchart-complete');\n",
              "        }\n",
              "        (() => {\n",
              "          let quickchartButtonEl =\n",
              "            document.querySelector('#df-5c788019-d871-4b7e-af6f-0c2a4d7580dc button');\n",
              "          quickchartButtonEl.style.display =\n",
              "            google.colab.kernel.accessAllowed ? 'block' : 'none';\n",
              "        })();\n",
              "      </script>\n",
              "    </div>\n",
              "\n",
              "    </div>\n",
              "  </div>\n"
            ],
            "application/vnd.google.colaboratory.intrinsic+json": {
              "type": "dataframe",
              "variable_name": "ventas"
            }
          },
          "metadata": {},
          "execution_count": 4
        }
      ]
    },
    {
      "cell_type": "code",
      "source": [
        "ventas1 = ventas.copy()"
      ],
      "metadata": {
        "id": "4bqLB-ju6chD"
      },
      "execution_count": null,
      "outputs": []
    },
    {
      "cell_type": "code",
      "source": [
        "#Se revisan los valores faltantes\n",
        "valores_nulos = ventas1.isnull().sum()\n",
        "valores_nulos"
      ],
      "metadata": {
        "colab": {
          "base_uri": "https://localhost:8080/",
          "height": 837
        },
        "id": "Jxbg2OID7fF0",
        "outputId": "974c88d4-1e8f-48b7-e937-6a1164ff0c19"
      },
      "execution_count": 43,
      "outputs": [
        {
          "output_type": "execute_result",
          "data": {
            "text/plain": [
              "indice_tiempo                          0\n",
              "ventas_precios_corrientes              0\n",
              "ventas_precios_constantes              0\n",
              "ventas_totales_canal_venta             0\n",
              "salon_ventas                           0\n",
              "canales_on_line                        0\n",
              "ventas_totales_medio_pago              0\n",
              "efectivo                               0\n",
              "tarjetas_debito                        0\n",
              "tarjetas_credito                       0\n",
              "otros_medios                           0\n",
              "ventas_totales_grupo_articulos         0\n",
              "subtotal_ventas_alimentos_bebidas      0\n",
              "bebidas                                0\n",
              "almacen                                0\n",
              "panaderia                              0\n",
              "lacteos                                0\n",
              "carnes                                 0\n",
              "verduleria_fruteria                    0\n",
              "alimentos_preparados_rotiseria         0\n",
              "articulos_limpieza_perfumeria          0\n",
              "indumentaria_calzado_textiles_hogar    0\n",
              "electronicos_articulos_hogar           0\n",
              "otros                                  0\n",
              "dtype: int64"
            ],
            "text/html": [
              "<div>\n",
              "<style scoped>\n",
              "    .dataframe tbody tr th:only-of-type {\n",
              "        vertical-align: middle;\n",
              "    }\n",
              "\n",
              "    .dataframe tbody tr th {\n",
              "        vertical-align: top;\n",
              "    }\n",
              "\n",
              "    .dataframe thead th {\n",
              "        text-align: right;\n",
              "    }\n",
              "</style>\n",
              "<table border=\"1\" class=\"dataframe\">\n",
              "  <thead>\n",
              "    <tr style=\"text-align: right;\">\n",
              "      <th></th>\n",
              "      <th>0</th>\n",
              "    </tr>\n",
              "  </thead>\n",
              "  <tbody>\n",
              "    <tr>\n",
              "      <th>indice_tiempo</th>\n",
              "      <td>0</td>\n",
              "    </tr>\n",
              "    <tr>\n",
              "      <th>ventas_precios_corrientes</th>\n",
              "      <td>0</td>\n",
              "    </tr>\n",
              "    <tr>\n",
              "      <th>ventas_precios_constantes</th>\n",
              "      <td>0</td>\n",
              "    </tr>\n",
              "    <tr>\n",
              "      <th>ventas_totales_canal_venta</th>\n",
              "      <td>0</td>\n",
              "    </tr>\n",
              "    <tr>\n",
              "      <th>salon_ventas</th>\n",
              "      <td>0</td>\n",
              "    </tr>\n",
              "    <tr>\n",
              "      <th>canales_on_line</th>\n",
              "      <td>0</td>\n",
              "    </tr>\n",
              "    <tr>\n",
              "      <th>ventas_totales_medio_pago</th>\n",
              "      <td>0</td>\n",
              "    </tr>\n",
              "    <tr>\n",
              "      <th>efectivo</th>\n",
              "      <td>0</td>\n",
              "    </tr>\n",
              "    <tr>\n",
              "      <th>tarjetas_debito</th>\n",
              "      <td>0</td>\n",
              "    </tr>\n",
              "    <tr>\n",
              "      <th>tarjetas_credito</th>\n",
              "      <td>0</td>\n",
              "    </tr>\n",
              "    <tr>\n",
              "      <th>otros_medios</th>\n",
              "      <td>0</td>\n",
              "    </tr>\n",
              "    <tr>\n",
              "      <th>ventas_totales_grupo_articulos</th>\n",
              "      <td>0</td>\n",
              "    </tr>\n",
              "    <tr>\n",
              "      <th>subtotal_ventas_alimentos_bebidas</th>\n",
              "      <td>0</td>\n",
              "    </tr>\n",
              "    <tr>\n",
              "      <th>bebidas</th>\n",
              "      <td>0</td>\n",
              "    </tr>\n",
              "    <tr>\n",
              "      <th>almacen</th>\n",
              "      <td>0</td>\n",
              "    </tr>\n",
              "    <tr>\n",
              "      <th>panaderia</th>\n",
              "      <td>0</td>\n",
              "    </tr>\n",
              "    <tr>\n",
              "      <th>lacteos</th>\n",
              "      <td>0</td>\n",
              "    </tr>\n",
              "    <tr>\n",
              "      <th>carnes</th>\n",
              "      <td>0</td>\n",
              "    </tr>\n",
              "    <tr>\n",
              "      <th>verduleria_fruteria</th>\n",
              "      <td>0</td>\n",
              "    </tr>\n",
              "    <tr>\n",
              "      <th>alimentos_preparados_rotiseria</th>\n",
              "      <td>0</td>\n",
              "    </tr>\n",
              "    <tr>\n",
              "      <th>articulos_limpieza_perfumeria</th>\n",
              "      <td>0</td>\n",
              "    </tr>\n",
              "    <tr>\n",
              "      <th>indumentaria_calzado_textiles_hogar</th>\n",
              "      <td>0</td>\n",
              "    </tr>\n",
              "    <tr>\n",
              "      <th>electronicos_articulos_hogar</th>\n",
              "      <td>0</td>\n",
              "    </tr>\n",
              "    <tr>\n",
              "      <th>otros</th>\n",
              "      <td>0</td>\n",
              "    </tr>\n",
              "  </tbody>\n",
              "</table>\n",
              "</div><br><label><b>dtype:</b> int64</label>"
            ]
          },
          "metadata": {},
          "execution_count": 43
        }
      ]
    },
    {
      "cell_type": "markdown",
      "source": [
        "# Método de reemplazo (Media)"
      ],
      "metadata": {
        "id": "FT-bW-mA8fnZ"
      }
    },
    {
      "cell_type": "markdown",
      "source": [
        "Para las siguientes columnas, se uso el método de reemplazo de media."
      ],
      "metadata": {
        "id": "yyj5PwWYCq9-"
      }
    },
    {
      "cell_type": "code",
      "source": [
        "ventas1['salon_ventas']=ventas1['salon_ventas'].fillna(round(ventas1['salon_ventas'].mean(),1))"
      ],
      "metadata": {
        "id": "LylI3sI18Yra"
      },
      "execution_count": null,
      "outputs": []
    },
    {
      "cell_type": "code",
      "source": [
        "ventas1['tarjetas_debito']=ventas1['tarjetas_debito'].fillna(round(ventas1['tarjetas_debito'].mean(),1))"
      ],
      "metadata": {
        "id": "WFhsTW988YmO"
      },
      "execution_count": null,
      "outputs": []
    },
    {
      "cell_type": "code",
      "source": [
        "ventas1['tarjetas_credito']=ventas1['tarjetas_credito'].fillna(round(ventas1['tarjetas_credito'].mean(),1))"
      ],
      "metadata": {
        "id": "L8PUJ-jB8YgZ"
      },
      "execution_count": null,
      "outputs": []
    },
    {
      "cell_type": "code",
      "source": [
        "ventas1['otros_medios']=ventas1['otros_medios'].fillna(round(ventas1['otros_medios'].mean(),1))"
      ],
      "metadata": {
        "id": "oG44JQtd8Yal"
      },
      "execution_count": null,
      "outputs": []
    },
    {
      "cell_type": "code",
      "source": [
        "ventas1['subtotal_ventas_alimentos_bebidas']=ventas1['subtotal_ventas_alimentos_bebidas'].fillna(round(ventas1['subtotal_ventas_alimentos_bebidas'].mean(),1))"
      ],
      "metadata": {
        "id": "-NHUdcfW9xK3"
      },
      "execution_count": null,
      "outputs": []
    },
    {
      "cell_type": "code",
      "source": [
        "ventas1['bebidas']=ventas1['bebidas'].fillna(round(ventas1['bebidas'].mean(),1))"
      ],
      "metadata": {
        "id": "Jqv1Jcd_8YVD"
      },
      "execution_count": null,
      "outputs": []
    },
    {
      "cell_type": "markdown",
      "source": [
        "# Método de reemplazo (Mediana)"
      ],
      "metadata": {
        "id": "G1rs_bEZ9tBA"
      }
    },
    {
      "cell_type": "markdown",
      "source": [
        "Para las siguientes variables se utilizó la mediana para reemplazar los datos faltantes"
      ],
      "metadata": {
        "id": "ge5fwxXICyvB"
      }
    },
    {
      "cell_type": "code",
      "source": [
        "ventas1['almacen'] = ventas1['almacen'].fillna(round(ventas1['almacen'].median(),1))"
      ],
      "metadata": {
        "id": "vLwvJLau8YOa"
      },
      "execution_count": null,
      "outputs": []
    },
    {
      "cell_type": "code",
      "source": [
        "ventas1['panaderia'] = ventas1['panaderia'].fillna(round(ventas1['panaderia'].median(),1))"
      ],
      "metadata": {
        "id": "yfCggabe8YIf"
      },
      "execution_count": null,
      "outputs": []
    },
    {
      "cell_type": "code",
      "source": [
        "ventas1['lacteos'] = ventas1['lacteos'].fillna(round(ventas1['lacteos'].median(),1))"
      ],
      "metadata": {
        "id": "XEx99DU_8YBz"
      },
      "execution_count": null,
      "outputs": []
    },
    {
      "cell_type": "code",
      "source": [
        "ventas1['carnes'] = ventas1['carnes'].fillna(round(ventas1['carnes'].median(),1))"
      ],
      "metadata": {
        "id": "2_V77au48X7-"
      },
      "execution_count": null,
      "outputs": []
    },
    {
      "cell_type": "code",
      "source": [
        "ventas1['verduleria_fruteria'] = ventas1['verduleria_fruteria'].fillna(round(ventas1['verduleria_fruteria'].median(),1))"
      ],
      "metadata": {
        "id": "vXx5renG8X0y"
      },
      "execution_count": null,
      "outputs": []
    },
    {
      "cell_type": "markdown",
      "source": [
        "# Método ffill"
      ],
      "metadata": {
        "id": "b16NmouTAdHW"
      }
    },
    {
      "cell_type": "markdown",
      "source": [
        "Para estas variables se usó el método de forward fill"
      ],
      "metadata": {
        "id": "ro_SXr2FDCip"
      }
    },
    {
      "cell_type": "code",
      "source": [
        "ventas1['alimentos_preparados_rotiseria']=ventas1['alimentos_preparados_rotiseria'].fillna(method='ffill')"
      ],
      "metadata": {
        "colab": {
          "base_uri": "https://localhost:8080/"
        },
        "id": "eWHXnF7V8Xtp",
        "outputId": "ff74c73b-3c43-47db-efd0-c0d7f9fddced"
      },
      "execution_count": 37,
      "outputs": [
        {
          "output_type": "stream",
          "name": "stderr",
          "text": [
            "/tmp/ipython-input-1488698394.py:1: FutureWarning: Series.fillna with 'method' is deprecated and will raise in a future version. Use obj.ffill() or obj.bfill() instead.\n",
            "  ventas1['alimentos_preparados_rotiseria']=ventas1['alimentos_preparados_rotiseria'].fillna(method='ffill')\n"
          ]
        }
      ]
    },
    {
      "cell_type": "code",
      "source": [
        "ventas1['indumentaria_calzado_textiles_hogar']=ventas1['indumentaria_calzado_textiles_hogar'].bfill()"
      ],
      "metadata": {
        "id": "pLUvi80-8XkT"
      },
      "execution_count": 42,
      "outputs": []
    },
    {
      "cell_type": "markdown",
      "source": [
        "# Método bfill"
      ],
      "metadata": {
        "id": "iYQ0NMk5C5nM"
      }
    },
    {
      "cell_type": "markdown",
      "source": [
        "Para las últimas 2 columnas se utiliza el método backward fill"
      ],
      "metadata": {
        "id": "08JPU0OpC8dH"
      }
    },
    {
      "cell_type": "code",
      "source": [
        "ventas1['electronicos_articulos_hogar']=ventas1['electronicos_articulos_hogar'].fillna(method='bfill')"
      ],
      "metadata": {
        "colab": {
          "base_uri": "https://localhost:8080/"
        },
        "id": "Vy1ALevL8XY-",
        "outputId": "5fcb003b-8412-41fa-f083-3f6da7f98365"
      },
      "execution_count": null,
      "outputs": [
        {
          "output_type": "stream",
          "name": "stderr",
          "text": [
            "/tmp/ipython-input-4288200226.py:1: FutureWarning: Series.fillna with 'method' is deprecated and will raise in a future version. Use obj.ffill() or obj.bfill() instead.\n",
            "  ventas1['electronicos_articulos_hogar']=ventas1['electronicos_articulos_hogar'].fillna(method='bfill')\n"
          ]
        }
      ]
    },
    {
      "cell_type": "code",
      "source": [
        "ventas1['otros']=ventas1['otros'].fillna(method='bfill')"
      ],
      "metadata": {
        "colab": {
          "base_uri": "https://localhost:8080/"
        },
        "id": "fUvpsO8Q8XPP",
        "outputId": "02b49777-02bf-470e-e9c5-fd1a8b7ee783"
      },
      "execution_count": null,
      "outputs": [
        {
          "output_type": "stream",
          "name": "stderr",
          "text": [
            "/tmp/ipython-input-1734873734.py:1: FutureWarning: Series.fillna with 'method' is deprecated and will raise in a future version. Use obj.ffill() or obj.bfill() instead.\n",
            "  ventas1['otros']=ventas1['otros'].fillna(method='bfill')\n"
          ]
        }
      ]
    },
    {
      "cell_type": "code",
      "source": [
        "#Descarga de la base de datos"
      ],
      "metadata": {
        "id": "P-3wTEhl8ZT4"
      },
      "execution_count": null,
      "outputs": []
    },
    {
      "cell_type": "code",
      "source": [
        "ventas1.to_csv(\"Ventas_totales_completo1\")"
      ],
      "metadata": {
        "id": "wfF5QFex8XBe"
      },
      "execution_count": 40,
      "outputs": []
    }
  ]
}